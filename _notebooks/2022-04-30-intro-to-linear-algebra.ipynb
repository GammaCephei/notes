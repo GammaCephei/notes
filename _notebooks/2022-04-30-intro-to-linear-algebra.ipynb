{
 "cells": [
  {
   "cell_type": "markdown",
   "metadata": {},
   "source": [
    "# Basic Linear Algebra Concepts\n",
    "> Examining some basic concepts of liner algebra using python libraries\n",
    "\n",
    "- toc: true\n",
    "- branch: main\n",
    "- badges: true\n",
    "- categories: [jupyter, maths, linear-algebra, tensors, matrices]"
   ]
  },
  {
   "cell_type": "markdown",
   "metadata": {},
   "source": [
    "### Intro to Linear Algebra\n",
    "\n",
    "References:\n",
    "1. https://github.com/jonkrohn/ML-foundations"
   ]
  },
  {
   "cell_type": "code",
   "execution_count": 23,
   "metadata": {},
   "outputs": [],
   "source": [
    "import numpy as np\n",
    "import math\n",
    "import torch\n",
    "import tensorflow as tf\n",
    "import matplotlib.pyplot as plt"
   ]
  },
  {
   "cell_type": "markdown",
   "metadata": {},
   "source": [
    "#### Scalar Tensors\n",
    "\n",
    "\n",
    "Pytorch tensors can be used for operations on the GPU or CPU, unlike numpy arrays, by casting the tensor to a CUDA data type. \n",
    "\n",
    "Tensorflow tensors are also immutable, and created using wrappers."
   ]
  },
  {
   "cell_type": "code",
   "execution_count": 24,
   "metadata": {},
   "outputs": [
    {
     "name": "stdout",
     "output_type": "stream",
     "text": [
      "Type: torch.int64, Shape: torch.Size([])\n"
     ]
    }
   ],
   "source": [
    "# Example scalar pytorch tensor\n",
    "x = torch.tensor(10, dtype=torch.int64)\n",
    "print(f\"Type: {x.dtype}, Shape: {x.shape}\")"
   ]
  },
  {
   "cell_type": "code",
   "execution_count": 25,
   "metadata": {},
   "outputs": [
    {
     "data": {
      "text/plain": [
       "<tf.Tensor: shape=(), dtype=int64, numpy=10>"
      ]
     },
     "execution_count": 25,
     "metadata": {},
     "output_type": "execute_result"
    }
   ],
   "source": [
    "# Example scalar tensorflow tensor\n",
    "x = tf.constant(10, dtype=tf.int64)\n",
    "x"
   ]
  },
  {
   "cell_type": "markdown",
   "metadata": {},
   "source": [
    "#### Vector Transposition"
   ]
  },
  {
   "cell_type": "code",
   "execution_count": 26,
   "metadata": {},
   "outputs": [
    {
     "name": "stdout",
     "output_type": "stream",
     "text": [
      "x = [[5 6 7]] \n",
      "Shape = (1, 3)\n"
     ]
    }
   ],
   "source": [
    "x = np.array([[5,6,7]]) #Need extra brackets else shape will be (,3) (1D, not 2D)\n",
    "print(f\"x = {x} \\nShape = {x.shape}\")"
   ]
  },
  {
   "cell_type": "code",
   "execution_count": 27,
   "metadata": {},
   "outputs": [
    {
     "name": "stdout",
     "output_type": "stream",
     "text": [
      "x transposed:\n",
      "[[5]\n",
      " [6]\n",
      " [7]] \n",
      "Shape = (3, 1)\n"
     ]
    }
   ],
   "source": [
    "x_t = x.T\n",
    "print(f\"x transposed:\\n{x_t} \\nShape = {x_t.shape}\")"
   ]
  },
  {
   "cell_type": "code",
   "execution_count": 28,
   "metadata": {},
   "outputs": [
    {
     "name": "stdout",
     "output_type": "stream",
     "text": [
      "x = tensor([5, 6, 7]) \n",
      "Shape = torch.Size([3])\n"
     ]
    }
   ],
   "source": [
    "x = torch.tensor([5,6,7])\n",
    "print(f\"x = {x} \\nShape = {x.shape}\")"
   ]
  },
  {
   "cell_type": "code",
   "execution_count": 29,
   "metadata": {},
   "outputs": [
    {
     "data": {
      "text/plain": [
       "10.488088481701515"
      ]
     },
     "execution_count": 29,
     "metadata": {},
     "output_type": "execute_result"
    }
   ],
   "source": [
    "#L2 Norm - euclidean distance\n",
    "x = np.array([[5,6,7]])\n",
    "np.linalg.norm(x)"
   ]
  },
  {
   "cell_type": "code",
   "execution_count": 30,
   "metadata": {},
   "outputs": [
    {
     "data": {
      "text/plain": [
       "18"
      ]
     },
     "execution_count": 30,
     "metadata": {},
     "output_type": "execute_result"
    }
   ],
   "source": [
    "# L1 Norm\n",
    "np.sum(np.absolute(x))"
   ]
  },
  {
   "cell_type": "code",
   "execution_count": 31,
   "metadata": {},
   "outputs": [
    {
     "data": {
      "text/plain": [
       "110"
      ]
     },
     "execution_count": 31,
     "metadata": {},
     "output_type": "execute_result"
    }
   ],
   "source": [
    "# Squared L2 Norm\n",
    "x = np.array([5,6,7])\n",
    "np.dot(x,x)"
   ]
  },
  {
   "cell_type": "code",
   "execution_count": 32,
   "metadata": {},
   "outputs": [
    {
     "data": {
      "text/plain": [
       "7"
      ]
     },
     "execution_count": 32,
     "metadata": {},
     "output_type": "execute_result"
    }
   ],
   "source": [
    "# Max norm\n",
    "np.max(np.abs(x))"
   ]
  },
  {
   "cell_type": "code",
   "execution_count": 33,
   "metadata": {},
   "outputs": [
    {
     "data": {
      "text/plain": [
       "0"
      ]
     },
     "execution_count": 33,
     "metadata": {},
     "output_type": "execute_result"
    }
   ],
   "source": [
    "#Orthogonal\n",
    "i = np.asarray([1,0])\n",
    "j = np.asarray([0,1])\n",
    "np.dot(i,j)"
   ]
  },
  {
   "cell_type": "markdown",
   "metadata": {},
   "source": [
    "#### Matrices (2-Tensor)"
   ]
  },
  {
   "cell_type": "code",
   "execution_count": 34,
   "metadata": {},
   "outputs": [
    {
     "name": "stdout",
     "output_type": "stream",
     "text": [
      "[[ 5  3]\n",
      " [ 6  8]\n",
      " [ 2 10]]\n",
      " Shape: (3, 2) Size: 6\n"
     ]
    }
   ],
   "source": [
    "X = np.array([[5,3],[6,8],[2,10]])\n",
    "print(f\"{X}\\n Shape: {X.shape} Size: {X.size}\")"
   ]
  },
  {
   "cell_type": "code",
   "execution_count": 35,
   "metadata": {},
   "outputs": [
    {
     "data": {
      "text/plain": [
       "array([5, 6, 2])"
      ]
     },
     "execution_count": 35,
     "metadata": {},
     "output_type": "execute_result"
    }
   ],
   "source": [
    "X[:,0] # left column"
   ]
  },
  {
   "cell_type": "code",
   "execution_count": 36,
   "metadata": {},
   "outputs": [
    {
     "data": {
      "text/plain": [
       "array([6, 8])"
      ]
     },
     "execution_count": 36,
     "metadata": {},
     "output_type": "execute_result"
    }
   ],
   "source": [
    "X[1,:] # middle row"
   ]
  },
  {
   "cell_type": "code",
   "execution_count": 37,
   "metadata": {},
   "outputs": [
    {
     "name": "stdout",
     "output_type": "stream",
     "text": [
      "tensor([[ 5,  3],\n",
      "        [ 6,  8],\n",
      "        [ 2, 10]])\n",
      " Shape: torch.Size([3, 2])\n"
     ]
    }
   ],
   "source": [
    "#pytorch\n",
    "X = torch.tensor([[5,3],[6,8],[2,10]])\n",
    "print(f\"{X}\\n Shape: {X.shape}\")"
   ]
  },
  {
   "cell_type": "code",
   "execution_count": 38,
   "metadata": {},
   "outputs": [
    {
     "name": "stdout",
     "output_type": "stream",
     "text": [
      "Rank: 2 Shape: [3 2]\n"
     ]
    }
   ],
   "source": [
    "#Tensorflow\n",
    "X = tf.constant([[5,3],[6,8],[2,10]])\n",
    "print(f\"Rank: {tf.rank(X)} Shape: {tf.shape(X)}\")"
   ]
  },
  {
   "cell_type": "markdown",
   "metadata": {},
   "source": [
    "#### n-Tensors"
   ]
  },
  {
   "cell_type": "code",
   "execution_count": 39,
   "metadata": {},
   "outputs": [
    {
     "data": {
      "text/plain": [
       "torch.Size([5, 2, 4, 2])"
      ]
     },
     "execution_count": 39,
     "metadata": {},
     "output_type": "execute_result"
    }
   ],
   "source": [
    "X = torch.zeros([5,2,4,2])\n",
    "X.shape"
   ]
  },
  {
   "cell_type": "code",
   "execution_count": 40,
   "metadata": {},
   "outputs": [
    {
     "name": "stdout",
     "output_type": "stream",
     "text": [
      "Rank: 4\n"
     ]
    }
   ],
   "source": [
    "X = tf.zeros([5,2,4,2])\n",
    "print(f\"Rank: {tf.rank(X)}\")"
   ]
  },
  {
   "cell_type": "markdown",
   "metadata": {},
   "source": [
    "#### Tensor Operations"
   ]
  },
  {
   "cell_type": "code",
   "execution_count": 41,
   "metadata": {},
   "outputs": [
    {
     "name": "stdout",
     "output_type": "stream",
     "text": [
      "X*2 = \n",
      "[[10  6]\n",
      " [12 16]\n",
      " [ 4 20]]\n",
      "  X+2 =\n",
      "[[ 7  5]\n",
      " [ 8 10]\n",
      " [ 4 12]]\n"
     ]
    }
   ],
   "source": [
    "X = np.array([[5,3],[6,8],[2,10]])\n",
    "print(f\"X*2 = \\n{X*2}\\n  X+2 =\\n{X+2}\")"
   ]
  },
  {
   "cell_type": "code",
   "execution_count": 43,
   "metadata": {},
   "outputs": [
    {
     "name": "stdout",
     "output_type": "stream",
     "text": [
      "X*2 = \n",
      "tensor([[10,  6],\n",
      "        [12, 16],\n",
      "        [ 4, 20]])\n",
      "  X+2 =\n",
      "tensor([[ 7,  5],\n",
      "        [ 8, 10],\n",
      "        [ 4, 12]])\n"
     ]
    }
   ],
   "source": [
    "X = torch.tensor([[5,3],[6,8],[2,10]])\n",
    "print(f\"X*2 = \\n{torch.mul(X,2)}\\n  X+2 =\\n{torch.add(X,2)}\")"
   ]
  },
  {
   "cell_type": "markdown",
   "metadata": {},
   "source": [
    "#### Elementwise Product  \n",
    "\n",
    "If tensors have the same size, operations can be aplied elementwise, this is the Hadamard product: $$\\boldsymbol X \\odot \\boldsymbol Y$$"
   ]
  },
  {
   "cell_type": "code",
   "execution_count": 44,
   "metadata": {},
   "outputs": [
    {
     "name": "stdout",
     "output_type": "stream",
     "text": [
      "[[ 50  24]\n",
      " [ 66 104]\n",
      " [ 14 150]]\n"
     ]
    }
   ],
   "source": [
    "X = np.array([[5,3],[6,8],[2,10]])\n",
    "Y = X + 5\n",
    "print(X*Y) ##dot product, not matrix multiplication"
   ]
  },
  {
   "cell_type": "code",
   "execution_count": null,
   "metadata": {},
   "outputs": [],
   "source": []
  }
 ],
 "metadata": {
  "interpreter": {
   "hash": "e7370f93d1d0cde622a1f8e1c04877d8463912d04d973331ad4851f04de6915a"
  },
  "kernelspec": {
   "display_name": "Python 3.10.4 64-bit",
   "language": "python",
   "name": "python3"
  },
  "language_info": {
   "codemirror_mode": {
    "name": "ipython",
    "version": 3
   },
   "file_extension": ".py",
   "mimetype": "text/x-python",
   "name": "python",
   "nbconvert_exporter": "python",
   "pygments_lexer": "ipython3",
   "version": "3.10.4"
  },
  "orig_nbformat": 4
 },
 "nbformat": 4,
 "nbformat_minor": 2
}
